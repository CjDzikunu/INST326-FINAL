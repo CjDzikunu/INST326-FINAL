{
 "cells": [
  {
   "cell_type": "code",
   "execution_count": 2,
   "id": "17aabd9a-abb7-4f7e-92dc-a85260ce3525",
   "metadata": {},
   "outputs": [],
   "source": [
    "from Adventure import *\n"
   ]
  },
  {
   "cell_type": "code",
   "execution_count": 3,
   "id": "fe193451-0580-4a22-985f-b7f455b77d3a",
   "metadata": {},
   "outputs": [],
   "source": [
    "game = Game(\"story.txt\", \"Joe\", 100)"
   ]
  },
  {
   "cell_type": "code",
   "execution_count": 4,
   "id": "a754fa0d-3ca8-4068-a168-af9a5cca3fa7",
   "metadata": {},
   "outputs": [
    {
     "data": {
      "text/plain": [
       "{' ': <Adventure.Story at 0x25ae4d33950>}"
      ]
     },
     "execution_count": 4,
     "metadata": {},
     "output_type": "execute_result"
    }
   ],
   "source": [
    "game.story_map"
   ]
  },
  {
   "cell_type": "code",
   "execution_count": null,
   "id": "ade010d0-937a-4b35-8b2d-9703d40b2462",
   "metadata": {},
   "outputs": [],
   "source": []
  }
 ],
 "metadata": {
  "kernelspec": {
   "display_name": "Python 3 (ipykernel)",
   "language": "python",
   "name": "python3"
  },
  "language_info": {
   "codemirror_mode": {
    "name": "ipython",
    "version": 3
   },
   "file_extension": ".py",
   "mimetype": "text/x-python",
   "name": "python",
   "nbconvert_exporter": "python",
   "pygments_lexer": "ipython3",
   "version": "3.11.1"
  }
 },
 "nbformat": 4,
 "nbformat_minor": 5
}
